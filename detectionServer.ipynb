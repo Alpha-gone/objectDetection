{
  "cells": [
    {
      "cell_type": "code",
      "execution_count": null,
      "metadata": {
        "id": "ZUEUi5ItXWzN"
      },
      "outputs": [],
      "source": [
        "!pip install ultralytics flask_ngrok pyngrok\n",
        "\n",
        "from flask import Flask, request\n",
        "from flask_ngrok import run_with_ngrok\n",
        "from pyngrok import ngrok\n",
        "from PIL import Image\n",
        "import io\n",
        "import cv2\n",
        "import torch"
      ]
    },
    {
      "cell_type": "code",
      "execution_count": null,
      "metadata": {
        "id": "pCfUQAn1AdvC"
      },
      "outputs": [],
      "source": [
        "app = Flask(__name__)\n",
        "ngrok.set_auth_token()\n",
        "run_with_ngrok(app)\n",
        "\n",
        "model = torch.hub.load('ultralytics/yolov5', 'yolov5s', pretrained=True)\n",
        "\n",
        "\n",
        "@app.route(\"/detect\", methods=['POST'])\n",
        "def detect_result():\n",
        "  frame_byte=request.files['frame'].read()\n",
        "\n",
        "  data = io.BytesIO(frame_byte)\n",
        "  img = Image.open(data)\n",
        "\n",
        "  result = model(img)\n",
        "\n",
        "  result.print()\n",
        "\n",
        "  data_list = list(result.pandas().xyxy[0]['name'])\n",
        "  return str(data_list.count('cat') != 0)\n",
        "\n",
        "if __name__ == \"__main__\":\n",
        "  app.run()\n"
      ]
    }
  ],
  "metadata": {
    "accelerator": "GPU",
    "colab": {
      "provenance": []
    },
    "kernelspec": {
      "display_name": "Python 3",
      "name": "python3"
    },
    "language_info": {
      "name": "python"
    }
  },
  "nbformat": 4,
  "nbformat_minor": 0
}
